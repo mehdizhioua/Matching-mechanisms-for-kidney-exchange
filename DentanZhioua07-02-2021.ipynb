{
 "cells": [
  {
   "cell_type": "markdown",
   "metadata": {},
   "source": [
    "# Matching mechanisms for kidney tranplantations - Dentan & Zhioua"
   ]
  },
  {
   "cell_type": "code",
   "execution_count": 1,
   "metadata": {},
   "outputs": [],
   "source": [
    "##Importations\n",
    "import numpy as np\n",
    "from time import time\n",
    "import random"
   ]
  },
  {
   "cell_type": "code",
   "execution_count": 2,
   "metadata": {},
   "outputs": [],
   "source": [
    "#Paramètres globaux de l'algorithme (graphe de l'exemple 4.3)\n",
    "#On prend n=13 et non n=12 pour prendre en compte la file d'attente\n",
    "n=13\n",
    "\n",
    "#Liste des préférences (on suppose que les patients sont déja triés par ordre de priorité.\n",
    "#0 représente la liste d'attente, à laquelle on affecte une liste fictive.\n",
    "P = [[],\n",
    "     [9,10,1],\n",
    "     [11,3,5,6,2],\n",
    "     [2,4,5,6,7,8,0],\n",
    "     [5,9,1,8,10,3,0],\n",
    "     [3,7,11,4,5],\n",
    "     [3,5,8,6],\n",
    "     [6,1,3,9,10,0],     #erreur d'énoncé pour cette ligne ?? (k1 en trop)\n",
    "     [6,4,11,2,3,8],\n",
    "     [3,11,0],\n",
    "     [11,1,4,5,6,7,0],\n",
    "     [3,6,5,11],\n",
    "     [11,3,9,8,10,12]]\n",
    "\n",
    "#représentation du graphe sous la forme d'une matrice d'adjacence.\n",
    "#la 0-ème ligne encode la liste d'attente. La 0-ème ligne vaut 1 (la liste d'attente accepte tout le monde)\n",
    "#K[i,j] = 1 ssi le patient i accepte le rein j\n",
    "\n",
    "K = np.zeros(shape=(n,n),dtype=int) \n",
    "for i in range(1,n):\n",
    "    for j in range(len(P[i])):   \n",
    "       K[i,P[i][j]]=1\n",
    "\n",
    "for i in range(n):\n",
    "    K[0,i] = 1\n"
   ]
  },
  {
   "cell_type": "code",
   "execution_count": 3,
   "metadata": {},
   "outputs": [
    {
     "name": "stdout",
     "output_type": "stream",
     "text": [
      "[[1 1 1 1 1 1 1 1 1 1 1 1 1]\n",
      " [0 1 0 0 0 0 0 0 0 1 1 0 0]\n",
      " [0 0 1 1 0 1 1 0 0 0 0 1 0]\n",
      " [1 0 1 0 1 1 1 1 1 0 0 0 0]\n",
      " [1 1 0 1 0 1 0 0 1 1 1 0 0]\n",
      " [0 0 0 1 1 1 0 1 0 0 0 1 0]\n",
      " [0 0 0 1 0 1 1 0 1 0 0 0 0]\n",
      " [1 1 0 1 0 0 1 0 0 1 1 0 0]\n",
      " [0 0 1 1 1 0 1 0 1 0 0 1 0]\n",
      " [1 0 0 1 0 0 0 0 0 0 0 1 0]\n",
      " [1 1 0 0 1 1 1 1 0 0 0 1 0]\n",
      " [0 0 0 1 0 1 1 0 0 0 0 1 0]\n",
      " [0 0 0 1 0 0 0 0 1 1 1 1 1]]\n"
     ]
    }
   ],
   "source": [
    "print(K)"
   ]
  },
  {
   "cell_type": "markdown",
   "metadata": {},
   "source": [
    "## Question 1"
   ]
  },
  {
   "cell_type": "markdown",
   "metadata": {},
   "source": [
    "L'algorithme de donation directe ne prend pas en compte la liste des préférences des patients. On peut donc utiliser directement la matrice d'adjacence pour tester en temps constant la propriété \"$k_i \\in K_i$\". En voici le code :"
   ]
  },
  {
   "cell_type": "code",
   "execution_count": 4,
   "metadata": {},
   "outputs": [
    {
     "data": {
      "text/plain": [
       "[0, 1, 2, 0, 0, 5, 6, 0, 8, 0, 0, 11, 12]"
      ]
     },
     "execution_count": 4,
     "metadata": {},
     "output_type": "execute_result"
    }
   ],
   "source": [
    "def direct_donation(K):\n",
    "    assign=[0] #On affecte la liste d'attente à elle-même\n",
    "    for i in range(1,n):\n",
    "        if K[i,i]==1:\n",
    "            assign.append(i)\n",
    "        else :\n",
    "            assign.append(0)\n",
    "    return(assign)\n",
    "\n",
    "direct_donation(K)"
   ]
  },
  {
   "cell_type": "markdown",
   "metadata": {},
   "source": [
    "## Question 2"
   ]
  },
  {
   "cell_type": "markdown",
   "metadata": {},
   "source": [
    "L'algorithme glouton consiste à parcourir l'ensemble des patients par ordre décroissant de priorité (donc ici en partant du premier patient vu que les patients sont déja triés par ordre de priorité). Pour chaque paire $(k_i,t_i)$ que l'on considère, on affecte le rein $k_p$ le plus haut placé dans la liste des préférences de $t_i$ encore non affecté et tel que l'arrête $(k_i,t_i),(k_p,t_p)$ existe dans le graphe."
   ]
  },
  {
   "cell_type": "code",
   "execution_count": 5,
   "metadata": {},
   "outputs": [
    {
     "data": {
      "text/plain": [
       "[0, 10, 3, 2, 5, 4, 8, 0, 6, 0, 1, 11, 12]"
      ]
     },
     "execution_count": 5,
     "metadata": {},
     "output_type": "execute_result"
    }
   ],
   "source": [
    "def greedy_matching(K,P):\n",
    "    assigned=n*[False] #sert à vérifier si les reins sont affectes\n",
    "    matching=n*[0]\n",
    "    \n",
    "    for i in range(1,n):\n",
    "        if not(assigned[i]):\n",
    "            k=0 #indice qui parcourt la liste des préférences\n",
    "            found = False\n",
    "            while not(found) and k<len(P[i]):\n",
    "                if K[i,P[i][k]]*K[P[i][k],i]==1 and not(assigned[P[i][k]]):\n",
    "                    found=True\n",
    "                    matching[i]=P[i][k]\n",
    "                    matching[P[i][k]]=i\n",
    "                    assigned[P[i][k]]=True\n",
    "                    assigned[i]=True\n",
    "                    if P[i][k] == 0:\n",
    "                        assigned[0] = False\n",
    "                        matching[0] = 0\n",
    "                k+=1\n",
    "    return matching\n",
    "\n",
    "greedy_matching(K,P)"
   ]
  },
  {
   "cell_type": "markdown",
   "metadata": {},
   "source": [
    "## Question 3"
   ]
  },
  {
   "cell_type": "markdown",
   "metadata": {},
   "source": [
    "On suppose qu'il n'y a pas de cycle.   \n",
    "Considérons une paire $(k_i,t_i)$. Lorsque l'on construit la liste $l$ des successeurs de  $(k_i,t_i)$, à chaque étape, on ajoute un élément qui n'est pas déja présent dans $l$ (sinon on crée un cycle). Comme le nombre de sommets est fini on doit nécessairement ajouter $w$ avant d'épuiser l'ensemble des sommets disponibles. Ainsi, $(k_i,t_i)$ est bien la queue d'une $w$-chaîne, ce qui conclut la démonstration."
   ]
  },
  {
   "cell_type": "markdown",
   "metadata": {},
   "source": [
    "## Question 4"
   ]
  },
  {
   "cell_type": "markdown",
   "metadata": {},
   "source": [
    "### **Fonctions générales**"
   ]
  },
  {
   "cell_type": "code",
   "execution_count": 6,
   "metadata": {},
   "outputs": [],
   "source": [
    "def next_unassignedUnseen(assigned, seen,n):\n",
    "    \"\"\"Renvoie le prochain sommet non affecté et non vu.\n",
    "    L'entrée est constituée de deux listes de booléens de taille n.\n",
    "    La sortie est un entier, et vaut -1 si tous les sommets ont étés assignés et vus.\"\"\"\n",
    "    for k in range(1,n):\n",
    "        if not assigned[k] and not seen[k]:\n",
    "            return k\n",
    "    return (-1)\n",
    "\n",
    "def detect_cycle_wChains(graph,assigned,n):\n",
    "    \"\"\"Fonction qui renvoit :\n",
    "        -: (0,sCycle) s'il existe un cycle, et sCycle est un élément du cycle ;\n",
    "        \n",
    "        -: (1,wChains) s'il n'existe pas de cycle, où wChains est un set contenant l'ensemble des \n",
    "        w chaines sous la forme (startOfAWChain, length, highestPriorityPatient). \n",
    "        NB : on renvoit toutes les w-chaines, donc si une chaine k1,t1,k2,t2.. est renvoyée, on renvoie\n",
    "        aussi k2,t2,... (cela est nécessaire pour la règle B) ;\n",
    "        \n",
    "        -: (1,set()) si tous les éléments ont étés visités. \"\"\"\n",
    "    \n",
    "    seen = n*[False] # this variable aims at testing each point, but it's not useful to detect a cycle\n",
    "    s = next_unassignedUnseen(assigned, seen, n)\n",
    "    \n",
    "    wChains = set()\n",
    "    \n",
    "    \n",
    "    while s != -1:\n",
    "        sVar = s # This variable will run throught the hypothetic cycle or w chain\n",
    "        \n",
    "        seenInThisCycle = set() # To know if a cycle is found\n",
    "        length = 0 # To know the length if it's a w-chain\n",
    "        highestPriority = s\n",
    "    \n",
    "        # Going throught the chain\n",
    "        while sVar!=0 and sVar not in seenInThisCycle: \n",
    "            seenInThisCycle.add(sVar)\n",
    "            length +=1\n",
    "            highestPriority = min(highestPriority,sVar)\n",
    "            \n",
    "            sVar = graph[sVar]\n",
    "        \n",
    "        # Result\n",
    "        if sVar in seenInThisCycle: # There's a cycle !\n",
    "            return (0,sVar)\n",
    "        \n",
    "        elif sVar==0:   # No cycle... let's memorize this w-chain\n",
    "                        # A possible opimization : memorize all the w-chains we know here !\n",
    "            wChains.add((s,length,highestPriority))\n",
    "        \n",
    "        \n",
    "        seen[s] = True\n",
    "        s = next_unassignedUnseen(assigned, seen,n)\n",
    "    \n",
    "    return (1,wChains)       "
   ]
  },
  {
   "cell_type": "code",
   "execution_count": 7,
   "metadata": {},
   "outputs": [],
   "source": [
    "def action_cycle(graph,assigned,matching,kidneyUsed,tuppleCycle,n):\n",
    "    \"\"\"Effectue les actions nécessaires lors de la détection d'un cycle.\n",
    "    tuppleCycle = (0,sCycle) où sCycle représente un sommet appartenant à un cycle, potentiellement de taille 1.\n",
    "    Cette fonction doit être appelée uniquement à la suite de detect_cycle_wChains.\"\"\"\n",
    "    (a,sCycle) = tuppleCycle\n",
    "    if a!= 0:\n",
    "        raise ValueError('Fatal error.')\n",
    "        \n",
    "    cycleSummits = {sCycle} # Dictionnaire contenant les sommets du cycle\n",
    "    sVar = graph[sCycle]\n",
    "    matching[sCycle] = sVar\n",
    "    assigned[sCycle] = True\n",
    "    kidneyUsed[sCycle] = True\n",
    "    \n",
    "    while sVar!=sCycle:\n",
    "        cycleSummits.add(sVar)\n",
    "        matching[sVar] = graph[sVar]\n",
    "        assigned[sVar] = True\n",
    "        kidneyUsed[sVar] = True\n",
    "        \n",
    "        sVar = graph[sVar]\n",
    "    \n",
    "    # Updating the graph\n",
    "    for k in range(1,n):\n",
    "        if not assigned[k] and graph[k] in cycleSummits:\n",
    "            mostPreferedIndex = 0\n",
    "            while kidneyUsed[P[k][mostPreferedIndex]]: # the wainting list is never assigned so there is an end...\n",
    "                mostPreferedIndex +=1\n",
    "            graph[k]= P[k][mostPreferedIndex]"
   ]
  },
  {
   "cell_type": "code",
   "execution_count": 8,
   "metadata": {},
   "outputs": [],
   "source": [
    "def action_wChain(graph,assigned,matching,kidneyUsed,bestWChain,n):\n",
    "    \"\"\"Effectue les actions nécessaires en l'absence de cycles.\n",
    "    Doit être appellée après get_bestWChains_A ou get_bestWChains_B\"\"\"\n",
    "    \n",
    "    (s,l,h) = bestWChain\n",
    "    \n",
    "    kidneysUsedByTheChain = set()\n",
    "    \n",
    "    sVar = graph[s]\n",
    "    \n",
    "    matching[s] = sVar\n",
    "    assigned[s] = True\n",
    "    kidneyUsed[s] = False # The first kidney is not used\n",
    "    graph[s] = 0 # The kiney is not assigned : we do so to remember that a w-chain going here have to stop\n",
    "    \n",
    "    while sVar!=0:\n",
    "        if not assigned[sVar]: # Sometime, the kidney is available but the patient is already assigned\n",
    "            kidneysUsedByTheChain.add(sVar)\n",
    "            matching[sVar] = graph[sVar]\n",
    "            assigned[sVar] = True\n",
    "            kidneyUsed[sVar] = True\n",
    "        else: # We found an assigned patient : we stop the w-chain\n",
    "            kidneysUsedByTheChain.add(sVar)\n",
    "            kidneyUsed[sVar] = True\n",
    "            break\n",
    "            \n",
    "        \n",
    "        sVar = graph[sVar]\n",
    "    \n",
    "    # Updating the graph\n",
    "    for k in range(1,n):\n",
    "        if not assigned[k] and graph[k] in kidneysUsedByTheChain:\n",
    "            mostPreferedIndex = 0\n",
    "            while kidneyUsed[P[k][mostPreferedIndex]]: # the wainting list is never assigned so there is an end...\n",
    "                mostPreferedIndex +=1\n",
    "            graph[k]= P[k][mostPreferedIndex]\n",
    "    "
   ]
  },
  {
   "cell_type": "markdown",
   "metadata": {},
   "source": [
    "### **Règle A**"
   ]
  },
  {
   "cell_type": "code",
   "execution_count": 9,
   "metadata": {},
   "outputs": [],
   "source": [
    "def get_bestWChains_A(graph,assigned,tuppleWChains,n):\n",
    "    \"\"\"Renvoie la meilleure w-chaine pour la règle A en l'absence de cycle.\n",
    "    tuppleCycle = (1,wChains) est le résultat de detect_cycle_wChains.\n",
    "    Cette fonction doit être appelée uniquement à la suite de detect_cycle_wChains.\n",
    "    Cette fonction ne doit pas être appellée s'il n'y a pas de w-chaines.\"\"\"\n",
    "    (a,wChains) = tuppleWChains\n",
    "    if a != 1:\n",
    "        raise ValueError('Fatal error.')\n",
    "    if len(wChains) == 0:\n",
    "        raise ValueError('Empty w-chains set.')\n",
    "    \n",
    "    # Let's find the longest w-chain\n",
    "    longestWChainSet = set()\n",
    "    lengthOfTheChampion = 0\n",
    "    highestPriorityOfTheChampion = n\n",
    "    \n",
    "    for (s,length,highestPriority) in wChains:\n",
    "        if length > lengthOfTheChampion:\n",
    "            longestWChainSet = {(s,length,highestPriority)}\n",
    "            lengthOfTheChampion = length\n",
    "            highestPriorityOfTheChampion = highestPriority\n",
    "        \n",
    "        elif length == lengthOfTheChampion:\n",
    "            if highestPriority < highestPriorityOfTheChampion:\n",
    "                longestWChainSet = {(s,length,highestPriority)}\n",
    "                lengthOfTheChampion = length\n",
    "                highestPriorityOfTheChampion = highestPriority\n",
    "                highestPriorityOfTheChampion = highestPriority\n",
    "            elif highestPriority == highestPriorityOfTheChampion:\n",
    "                longestWChainSet.add((s,length,highestPriority))\n",
    "    \n",
    "    \n",
    "    # Now, we have the longest w-chains, with the longest highest priorities\n",
    "    # We have to know all the priorities to rank the w-chains\n",
    "    \n",
    "    bestWChain = (0,0,0)\n",
    "    bestWChainPriorities = [n]\n",
    "    for (s,length,highestPriority) in longestWChainSet:\n",
    "        priorities = []\n",
    "        sVar = s\n",
    "        while sVar != 0:\n",
    "            priorities.append(sVar)\n",
    "            sVar = graph[sVar]\n",
    "        priorities.sort()\n",
    "        \n",
    "        if priorities < bestWChainPriorities:\n",
    "            bestWChain = (s,length,highestPriority)\n",
    "            bestWChainPriorities = priorities\n",
    "    \n",
    "    return bestWChain"
   ]
  },
  {
   "cell_type": "code",
   "execution_count": 10,
   "metadata": {},
   "outputs": [],
   "source": [
    "def match_A(P,n,progress=False):\n",
    "    \"\"\"Renvoie le matching correspondant à la règle A.\n",
    "    Si progress==True, on affiche ce qui se passe étape après étape.\"\"\"\n",
    "    graph = n*[0]\n",
    "    assigned = n*[False]\n",
    "    kidneyUsed = n*[False]\n",
    "    matching = n*[0]\n",
    "    \n",
    "    # Building the graph\n",
    "    for k in range(1,n):\n",
    "        graph[k]= P[k][0]\n",
    "        \n",
    "    # To print the progress\n",
    "    step = 0\n",
    "    if progress:\n",
    "        print(\"\\n\\n=============START PROCESS=============\\n\\n\")\n",
    "        print(\"STEP : {}\\nGraph      = {}\\nAssigned   = {}\\nKidneyUsed = {}\\nMatching   = {}\\n\\n\".format(step,graph,assigned,kidneyUsed,matching))\n",
    "    \n",
    "    # Initialisation    \n",
    "    detectionResult = detect_cycle_wChains(graph,assigned,n)\n",
    "    \n",
    "    while detectionResult != (1,set()):\n",
    "        if detectionResult[0] == 0: # Cycle\n",
    "            action_cycle(graph,assigned,matching,kidneyUsed,detectionResult,n)\n",
    "            if progress:\n",
    "                print(\"DETECTED : Cycle\\nRule : A\\nCycle beginning : {}\\n\\n\".format(detectionResult[1]))\n",
    "        else:\n",
    "            bestWChain = get_bestWChains_A(graph,assigned,detectionResult,n)\n",
    "            action_wChain(graph,assigned,matching,kidneyUsed,bestWChain,n)\n",
    "            if progress:\n",
    "                print(\"DETECTED : w-Chain\\nRule : A\\nChain beginning : {}\\nChain length : {}\\n\\n\".format(bestWChain[0],bestWChain[1]))\n",
    "        \n",
    "        step += 1\n",
    "        if progress:\n",
    "                        print(\"STEP : {}\\nGraph      = {}\\nAssigned   = {}\\nKidneyUsed = {}\\nMatching   = {}\\n\\n\".format(step,graph,assigned,kidneyUsed,matching))\n",
    "        \n",
    "        \n",
    "        detectionResult = detect_cycle_wChains(graph,assigned,n)\n",
    "    \n",
    "    \n",
    "    if progress:\n",
    "        print(\"==============END PROCESS==============\\n\\n\\n\\n\")\n",
    "    return matching\n",
    "    "
   ]
  },
  {
   "cell_type": "code",
   "execution_count": 11,
   "metadata": {},
   "outputs": [
    {
     "data": {
      "text/plain": [
       "[0, 9, 11, 2, 8, 7, 5, 6, 4, 0, 1, 3, 10]"
      ]
     },
     "execution_count": 11,
     "metadata": {},
     "output_type": "execute_result"
    }
   ],
   "source": [
    "match_A(P,n)"
   ]
  },
  {
   "cell_type": "markdown",
   "metadata": {},
   "source": [
    "### Règle B"
   ]
  },
  {
   "cell_type": "code",
   "execution_count": 12,
   "metadata": {},
   "outputs": [],
   "source": [
    "def get_bestWChains_B(graph,assigned,tuppleWChains,n):\n",
    "    \"\"\"Renvoie la meilleure w-chaine pour la règle B en l'absence de cycle.\n",
    "    tuppleCycle = (1,wChains) est le résultat de detect_cycle_wChains.\n",
    "    Cette fonction doit être appelée uniquement à la suite de detect_cycle_wChains.\n",
    "    Cette fonction ne doit pas être appellée s'il n'y a pas de w-chaines.\"\"\"\n",
    "    (a,wChains) = tuppleWChains\n",
    "    if a != 1:\n",
    "        raise ValueError('Fatal error.')\n",
    "    if len(wChains) == 0:\n",
    "        raise ValueError('Empty w-chains set.')\n",
    "    \n",
    "    # Let's find the best w-chain\n",
    "    bestWChain = (n,n,n)\n",
    "    \n",
    "    for (s,length,highestPriority) in wChains:\n",
    "        if s < bestWChain[0]:\n",
    "            bestWChain = (s,length,highestPriority)\n",
    "    \n",
    "    return bestWChain"
   ]
  },
  {
   "cell_type": "code",
   "execution_count": 13,
   "metadata": {},
   "outputs": [],
   "source": [
    "def match_B(P,n,progress=False):\n",
    "    \"\"\"Renvoie le matching correspondant à la règle B.\n",
    "    Si progress==True, on affiche ce qui se passe étape après étape.\"\"\"\n",
    "    graph = n*[0]\n",
    "    assigned = n*[False]\n",
    "    kidneyUsed = n*[False]\n",
    "    matching = n*[0]\n",
    "    \n",
    "    # Building the graph\n",
    "    for k in range(1,n):\n",
    "        graph[k]= P[k][0]\n",
    "        \n",
    "    # To print the progress\n",
    "    step = 0\n",
    "    if progress:\n",
    "        print(\"\\n\\n=============START PROCESS=============\\n\\n\")\n",
    "        print(\"STEP : {}\\nGraph      = {}\\nAssigned   = {}\\nKidneyUsed = {}\\nMatching   = {}\\n\\n\".format(step,graph,assigned,kidneyUsed,matching))\n",
    "    \n",
    "    # Initialisation    \n",
    "    detectionResult = detect_cycle_wChains(graph,assigned,n)\n",
    "    \n",
    "    while detectionResult != (1,set()):\n",
    "        if detectionResult[0] == 0: # Cycle\n",
    "            action_cycle(graph,assigned,matching,kidneyUsed,detectionResult,n)\n",
    "            if progress:\n",
    "                print(\"DETECTED : Cycle\\nRule : B\\nCycle beginning : {}\\n\\n\".format(detectionResult[1]))\n",
    "        else:\n",
    "            bestWChain = get_bestWChains_B(graph,assigned,detectionResult,n)\n",
    "            action_wChain(graph,assigned,matching,kidneyUsed,bestWChain,n)\n",
    "            if progress:\n",
    "                print(\"DETECTED : w-Chain\\nRule : B\\nChain beginning : {}\\nChain length : {}\\n\\n\".format(bestWChain[0],bestWChain[1]))\n",
    "        \n",
    "        \n",
    "        step += 1\n",
    "        if progress:\n",
    "            print(\"STEP : {}\\nGraph      = {}\\nAssigned   = {}\\nKidneyUsed = {}\\nMatching   = {}\\n\\n\".format(step,graph,assigned,kidneyUsed,matching))\n",
    "        \n",
    "        \n",
    "        detectionResult = detect_cycle_wChains(graph,assigned,n)\n",
    "    \n",
    "    \n",
    "    if progress:\n",
    "        print(\"==============END PROCESS==============\\n\\n\\n\\n\")\n",
    "    return matching"
   ]
  },
  {
   "cell_type": "code",
   "execution_count": 14,
   "metadata": {},
   "outputs": [
    {
     "data": {
      "text/plain": [
       "[0, 9, 11, 2, 1, 7, 5, 6, 4, 0, 0, 3, 8]"
      ]
     },
     "execution_count": 14,
     "metadata": {},
     "output_type": "execute_result"
    }
   ],
   "source": [
    "match_B(P,n)"
   ]
  },
  {
   "cell_type": "markdown",
   "metadata": {},
   "source": [
    "### **Résultats**"
   ]
  },
  {
   "cell_type": "code",
   "execution_count": 15,
   "metadata": {},
   "outputs": [
    {
     "name": "stdout",
     "output_type": "stream",
     "text": [
      "[0, 9, 11, 2, 8, 7, 5, 6, 4, 0, 1, 3, 10]\n",
      "[0, 9, 11, 2, 1, 7, 5, 6, 4, 0, 0, 3, 8]\n"
     ]
    }
   ],
   "source": [
    "print(match_A(P,n))\n",
    "print(match_B(P,n))"
   ]
  },
  {
   "cell_type": "markdown",
   "metadata": {},
   "source": [
    "### **Debuging**"
   ]
  },
  {
   "cell_type": "code",
   "execution_count": 16,
   "metadata": {},
   "outputs": [],
   "source": [
    "#Exemple du sujet :\n",
    "#Liste des reins non affectés préférés\n",
    "#On affecte w à lui-même\n",
    "graph = [0,9,11,2,5,3,3,6,6,3,11,3,11]\n",
    "assigned = n*[False]\n",
    "kidneyUsed = n*[False]\n",
    "matching = n*[0]"
   ]
  },
  {
   "cell_type": "code",
   "execution_count": 17,
   "metadata": {},
   "outputs": [
    {
     "name": "stdout",
     "output_type": "stream",
     "text": [
      "(0, 3)\n"
     ]
    }
   ],
   "source": [
    "print(detect_cycle_wChains(graph, assigned,n))"
   ]
  },
  {
   "cell_type": "code",
   "execution_count": 18,
   "metadata": {},
   "outputs": [],
   "source": [
    "comment = \"\"\"\n",
    "action_cycle(graph,assigned,matching,detect_cycle_wChains(graph, assigned,n),n)\n",
    "print(matching)\n",
    "print(graph)\n",
    "#\"\"\""
   ]
  },
  {
   "cell_type": "code",
   "execution_count": 19,
   "metadata": {},
   "outputs": [],
   "source": [
    "comment = \"\"\"\n",
    "tuppleWChains = detect_cycle_wChains(graph, assigned,n)\n",
    "bestWChain = get_bestWChains_A(graph,assigned,tuppleWChains,n)\n",
    "action_wChain(graph,assigned,matching,bestWChain,n)\n",
    "print(bestWChain)\n",
    "print(matching)\n",
    "print(graph)\n",
    "#\"\"\""
   ]
  },
  {
   "cell_type": "code",
   "execution_count": 20,
   "metadata": {},
   "outputs": [],
   "source": [
    "comment = \"\"\"\n",
    "tuppleWChains = detect_cycle_wChains(graph, assigned,n)\n",
    "bestWChain = get_bestWChains_B(graph,assigned,tuppleWChains,n)\n",
    "action_wChain(graph,assigned,matching,bestWChain,n)\n",
    "print(bestWChain)\n",
    "print(matching)\n",
    "print(graph)\n",
    "#\"\"\""
   ]
  },
  {
   "cell_type": "markdown",
   "metadata": {},
   "source": [
    "## **Question 5**"
   ]
  },
  {
   "cell_type": "code",
   "execution_count": 21,
   "metadata": {},
   "outputs": [
    {
     "name": "stdout",
     "output_type": "stream",
     "text": [
      "\n",
      "\n",
      "=============START PROCESS=============\n",
      "\n",
      "\n",
      "STEP : 0\n",
      "Graph      = [0, 9, 11, 2, 5, 3, 3, 6, 6, 3, 11, 3, 11]\n",
      "Assigned   = [False, False, False, False, False, False, False, False, False, False, False, False, False]\n",
      "KidneyUsed = [False, False, False, False, False, False, False, False, False, False, False, False, False]\n",
      "Matching   = [0, 0, 0, 0, 0, 0, 0, 0, 0, 0, 0, 0, 0]\n",
      "\n",
      "\n",
      "DETECTED : Cycle\n",
      "Rule : A\n",
      "Cycle beginning : 3\n",
      "\n",
      "\n",
      "STEP : 1\n",
      "Graph      = [0, 9, 11, 2, 5, 7, 5, 6, 6, 0, 1, 3, 9]\n",
      "Assigned   = [False, False, True, True, False, False, False, False, False, False, False, True, False]\n",
      "KidneyUsed = [False, False, True, True, False, False, False, False, False, False, False, True, False]\n",
      "Matching   = [0, 0, 11, 2, 0, 0, 0, 0, 0, 0, 0, 3, 0]\n",
      "\n",
      "\n",
      "DETECTED : Cycle\n",
      "Rule : A\n",
      "Cycle beginning : 5\n",
      "\n",
      "\n",
      "STEP : 2\n",
      "Graph      = [0, 9, 11, 2, 9, 7, 5, 6, 4, 0, 1, 3, 9]\n",
      "Assigned   = [False, False, True, True, False, True, True, True, False, False, False, True, False]\n",
      "KidneyUsed = [False, False, True, True, False, True, True, True, False, False, False, True, False]\n",
      "Matching   = [0, 0, 11, 2, 0, 7, 5, 6, 0, 0, 0, 3, 0]\n",
      "\n",
      "\n",
      "DETECTED : w-Chain\n",
      "Rule : A\n",
      "Chain beginning : 10\n",
      "Chain length : 3\n",
      "\n",
      "\n",
      "STEP : 3\n",
      "Graph      = [0, 9, 11, 2, 8, 7, 5, 6, 4, 0, 0, 3, 8]\n",
      "Assigned   = [False, True, True, True, False, True, True, True, False, True, True, True, False]\n",
      "KidneyUsed = [False, True, True, True, False, True, True, True, False, True, False, True, False]\n",
      "Matching   = [0, 9, 11, 2, 0, 7, 5, 6, 0, 0, 1, 3, 0]\n",
      "\n",
      "\n",
      "DETECTED : Cycle\n",
      "Rule : A\n",
      "Cycle beginning : 4\n",
      "\n",
      "\n",
      "STEP : 4\n",
      "Graph      = [0, 9, 11, 2, 8, 7, 5, 6, 4, 0, 0, 3, 10]\n",
      "Assigned   = [False, True, True, True, True, True, True, True, True, True, True, True, False]\n",
      "KidneyUsed = [False, True, True, True, True, True, True, True, True, True, False, True, False]\n",
      "Matching   = [0, 9, 11, 2, 8, 7, 5, 6, 4, 0, 1, 3, 0]\n",
      "\n",
      "\n",
      "DETECTED : w-Chain\n",
      "Rule : A\n",
      "Chain beginning : 12\n",
      "Chain length : 2\n",
      "\n",
      "\n",
      "STEP : 5\n",
      "Graph      = [0, 9, 11, 2, 8, 7, 5, 6, 4, 0, 0, 3, 0]\n",
      "Assigned   = [False, True, True, True, True, True, True, True, True, True, True, True, True]\n",
      "KidneyUsed = [False, True, True, True, True, True, True, True, True, True, True, True, False]\n",
      "Matching   = [0, 9, 11, 2, 8, 7, 5, 6, 4, 0, 1, 3, 10]\n",
      "\n",
      "\n",
      "==============END PROCESS==============\n",
      "\n",
      "\n",
      "\n",
      "\n",
      "\n",
      "\n",
      "=============START PROCESS=============\n",
      "\n",
      "\n",
      "STEP : 0\n",
      "Graph      = [0, 9, 11, 2, 5, 3, 3, 6, 6, 3, 11, 3, 11]\n",
      "Assigned   = [False, False, False, False, False, False, False, False, False, False, False, False, False]\n",
      "KidneyUsed = [False, False, False, False, False, False, False, False, False, False, False, False, False]\n",
      "Matching   = [0, 0, 0, 0, 0, 0, 0, 0, 0, 0, 0, 0, 0]\n",
      "\n",
      "\n",
      "DETECTED : Cycle\n",
      "Rule : B\n",
      "Cycle beginning : 3\n",
      "\n",
      "\n",
      "STEP : 1\n",
      "Graph      = [0, 9, 11, 2, 5, 7, 5, 6, 6, 0, 1, 3, 9]\n",
      "Assigned   = [False, False, True, True, False, False, False, False, False, False, False, True, False]\n",
      "KidneyUsed = [False, False, True, True, False, False, False, False, False, False, False, True, False]\n",
      "Matching   = [0, 0, 11, 2, 0, 0, 0, 0, 0, 0, 0, 3, 0]\n",
      "\n",
      "\n",
      "DETECTED : Cycle\n",
      "Rule : B\n",
      "Cycle beginning : 5\n",
      "\n",
      "\n",
      "STEP : 2\n",
      "Graph      = [0, 9, 11, 2, 9, 7, 5, 6, 4, 0, 1, 3, 9]\n",
      "Assigned   = [False, False, True, True, False, True, True, True, False, False, False, True, False]\n",
      "KidneyUsed = [False, False, True, True, False, True, True, True, False, False, False, True, False]\n",
      "Matching   = [0, 0, 11, 2, 0, 7, 5, 6, 0, 0, 0, 3, 0]\n",
      "\n",
      "\n",
      "DETECTED : w-Chain\n",
      "Rule : B\n",
      "Chain beginning : 1\n",
      "Chain length : 2\n",
      "\n",
      "\n",
      "STEP : 3\n",
      "Graph      = [0, 0, 11, 2, 1, 7, 5, 6, 4, 0, 1, 3, 8]\n",
      "Assigned   = [False, True, True, True, False, True, True, True, False, True, False, True, False]\n",
      "KidneyUsed = [False, False, True, True, False, True, True, True, False, True, False, True, False]\n",
      "Matching   = [0, 9, 11, 2, 0, 7, 5, 6, 0, 0, 0, 3, 0]\n",
      "\n",
      "\n",
      "DETECTED : w-Chain\n",
      "Rule : B\n",
      "Chain beginning : 4\n",
      "Chain length : 2\n",
      "\n",
      "\n",
      "STEP : 4\n",
      "Graph      = [0, 0, 11, 2, 0, 7, 5, 6, 4, 0, 4, 3, 8]\n",
      "Assigned   = [False, True, True, True, True, True, True, True, False, True, False, True, False]\n",
      "KidneyUsed = [False, True, True, True, False, True, True, True, False, True, False, True, False]\n",
      "Matching   = [0, 9, 11, 2, 1, 7, 5, 6, 0, 0, 0, 3, 0]\n",
      "\n",
      "\n",
      "DETECTED : w-Chain\n",
      "Rule : B\n",
      "Chain beginning : 8\n",
      "Chain length : 2\n",
      "\n",
      "\n",
      "STEP : 5\n",
      "Graph      = [0, 0, 11, 2, 0, 7, 5, 6, 0, 0, 0, 3, 8]\n",
      "Assigned   = [False, True, True, True, True, True, True, True, True, True, False, True, False]\n",
      "KidneyUsed = [False, True, True, True, True, True, True, True, False, True, False, True, False]\n",
      "Matching   = [0, 9, 11, 2, 1, 7, 5, 6, 4, 0, 0, 3, 0]\n",
      "\n",
      "\n",
      "DETECTED : w-Chain\n",
      "Rule : B\n",
      "Chain beginning : 10\n",
      "Chain length : 1\n",
      "\n",
      "\n",
      "STEP : 6\n",
      "Graph      = [0, 0, 11, 2, 0, 7, 5, 6, 0, 0, 0, 3, 8]\n",
      "Assigned   = [False, True, True, True, True, True, True, True, True, True, True, True, False]\n",
      "KidneyUsed = [False, True, True, True, True, True, True, True, False, True, False, True, False]\n",
      "Matching   = [0, 9, 11, 2, 1, 7, 5, 6, 4, 0, 0, 3, 0]\n",
      "\n",
      "\n",
      "DETECTED : w-Chain\n",
      "Rule : B\n",
      "Chain beginning : 12\n",
      "Chain length : 2\n",
      "\n",
      "\n",
      "STEP : 7\n",
      "Graph      = [0, 0, 11, 2, 0, 7, 5, 6, 0, 0, 0, 3, 0]\n",
      "Assigned   = [False, True, True, True, True, True, True, True, True, True, True, True, True]\n",
      "KidneyUsed = [False, True, True, True, True, True, True, True, True, True, False, True, False]\n",
      "Matching   = [0, 9, 11, 2, 1, 7, 5, 6, 4, 0, 0, 3, 8]\n",
      "\n",
      "\n",
      "==============END PROCESS==============\n",
      "\n",
      "\n",
      "\n",
      "\n"
     ]
    }
   ],
   "source": [
    "mA = match_A(P,n,progress=True)\n",
    "mB = match_B(P,n,progress=True)"
   ]
  },
  {
   "cell_type": "markdown",
   "metadata": {},
   "source": [
    "## **Question 8**\n",
    "On constate que 'ERROR !' n'est jamais imprimé, ce qui illustre la question 8."
   ]
  },
  {
   "cell_type": "code",
   "execution_count": 22,
   "metadata": {},
   "outputs": [],
   "source": [
    "P1 = [l.copy() for l in P] # Deep copy\n",
    "matching = match_B(P,n)\n",
    "for k in range(100):\n",
    "    random.shuffle(P1[n-1])\n",
    "    if P[n-1].index(match_B(P1,n)[n-1]) < P[n-1].index(matching[n-1]):\n",
    "        print(\"ERROR !\")\n"
   ]
  },
  {
   "cell_type": "markdown",
   "metadata": {},
   "source": [
    "## **Question 9**\n",
    "\n",
    "On commence par importe les données de l'énoncé"
   ]
  },
  {
   "cell_type": "code",
   "execution_count": 23,
   "metadata": {},
   "outputs": [],
   "source": [
    "graph1 = np.array([[0,0,0,0,0,0,0,0,1,0,0,0],\n",
    "[0,0,0,0,0,0,0,0,0,0,1,0],\n",
    "[0,1,0,0,0,0,0,0,0,0,0,0],\n",
    "[0,0,0,0,1,0,0,0,0,0,0,0],\n",
    "[0,0,1,0,0,0,0,0,0,0,0,0],\n",
    "[0,0,1,0,0,0,0,0,0,0,0,0],\n",
    "[0,0,0,0,0,1,0,0,0,0,0,0],\n",
    "[0,0,0,0,0,1,0,0,0,0,0,0],\n",
    "[0,0,1,0,0,0,0,0,0,0,0,0],\n",
    "[0,0,0,0,0,0,0,0,0,0,1,0],\n",
    "[0,0,1,0,0,0,0,0,0,0,0,0],\n",
    "[0,0,0,0,0,0,0,0,0,0,1,0]])"
   ]
  },
  {
   "cell_type": "code",
   "execution_count": 24,
   "metadata": {},
   "outputs": [],
   "source": [
    "graph2 = np.array([[0,0,0,0,0,0,0,0,1,0,0,0],\n",
    "[0,0,0,0,0,0,0,0,0,0,1,0],\n",
    "[1,1,0,1,0,0,0,1,0,0,0,0],\n",
    "[0,0,0,0,1,0,0,0,0,0,0,0],\n",
    "[0,0,1,0,0,1,0,0,0,0,0,0],\n",
    "[0,0,1,1,0,0,0,0,0,0,0,0],\n",
    "[0,0,0,0,0,1,0,0,0,0,0,0],\n",
    "[0,0,0,0,0,1,0,0,0,0,0,0],\n",
    "[0,0,1,0,0,0,0,0,0,0,0,0],\n",
    "[0,1,0,0,0,0,0,0,0,0,0,0],\n",
    "[0,0,1,0,0,0,0,0,0,1,0,0],\n",
    "[0,0,0,0,0,0,0,0,0,0,1,0]])"
   ]
  },
  {
   "cell_type": "code",
   "execution_count": 25,
   "metadata": {},
   "outputs": [],
   "source": [
    "graph3 = np.array([[1,1,1,1,1,1,1,1,1,1,1,1,1,1,1,1,1],\n",
    "[1,0,0,0,0,0,1,1,0,0,1,0,0,1,1,0,1],\n",
    "[1,0,0,0,0,0,1,1,0,0,1,0,0,1,1,0,1],\n",
    "[1,1,1,1,1,1,1,1,1,1,1,1,1,1,1,1,1],\n",
    "[1,1,1,1,1,1,1,1,1,1,1,1,1,1,1,1,1],\n",
    "[1,1,1,1,1,1,1,1,1,1,1,1,1,1,1,1,1],\n",
    "[1,1,1,1,1,1,1,1,1,1,1,1,1,1,1,1,1],\n",
    "[1,0,0,0,0,0,1,1,0,0,1,0,0,1,1,0,1],\n",
    "[1,0,0,0,0,0,1,1,0,0,1,0,0,1,1,0,1],\n",
    "[1,0,0,0,0,0,1,1,0,0,1,0,0,1,1,0,1],\n",
    "[1,1,1,1,1,1,1,1,1,1,1,1,1,1,1,1,1],\n",
    "[1,1,1,1,1,1,1,1,1,1,1,1,1,1,1,1,1],\n",
    "[1,1,1,1,1,1,1,1,1,1,1,1,1,1,1,1,1],\n",
    "[1,1,1,1,1,1,1,1,1,1,1,1,1,1,1,1,1],\n",
    "[1,0,0,0,0,0,1,1,0,0,1,0,0,1,1,0,1],\n",
    "[1,1,1,1,1,1,1,1,1,1,1,1,1,1,1,1,1],\n",
    "[1,1,1,1,1,1,1,1,1,1,1,1,1,1,1,1,1]])"
   ]
  },
  {
   "cell_type": "code",
   "execution_count": 26,
   "metadata": {},
   "outputs": [],
   "source": [
    "graph = [None,graph1,graph2,graph3]"
   ]
  },
  {
   "cell_type": "markdown",
   "metadata": {},
   "source": [
    "Pour répondre à la question, on procède comme suit : pour chaque sommet, on effectue un parcours en largeur dont on borne la profondeur. On mémorise également les éléments par lesquels on est déjà passés. Puis, on execute cela pour tous les sommets du graphe.\n",
    "\n",
    "Cette solution, simple à implémenter, à l'inconvénient de faire calculer plusieurs fois les mêmes choses. Pour accélérer les calculs, il faudrait mémoïzer tous les minimalInfeasiblePath  de longueur donnée partant d'un sommet donné, chose que l'on ne fait pas ici par manque de temps."
   ]
  },
  {
   "cell_type": "code",
   "execution_count": 27,
   "metadata": {},
   "outputs": [],
   "source": [
    "def get_unseen_neighbors(graph,seen,s):\n",
    "    \"\"\"Renvoie la liste des sommets voisins de s dans K et non vus dans seen.\"\"\"\n",
    "    n = len(graph)\n",
    "    result = []\n",
    "    for k in range(n):\n",
    "        if graph[s,k] and not seen[k]:\n",
    "            result.append(k)\n",
    "    return result"
   ]
  },
  {
   "cell_type": "code",
   "execution_count": 28,
   "metadata": {},
   "outputs": [],
   "source": [
    "def get_minimalInfeasible_fromSummit(graph,seen,depth,sStart):\n",
    "    \"\"\"Revoie la liste des minimalInfeasiblePath partant de sStart,\n",
    "    de taille depth, et n'utilisant pas les sommets de seen.\"\"\"\n",
    "    if depth == 0:\n",
    "        return [[]]\n",
    "    \n",
    "    if depth == 1:\n",
    "        return [[sStart]]\n",
    "    \n",
    "    result = []\n",
    "    for s in get_unseen_neighbors(graph,seen,sStart):\n",
    "        seen[s] = True\n",
    "        intermediateResult = get_minimalInfeasible_fromSummit(graph,seen,depth-1,s)\n",
    "        for l in intermediateResult:\n",
    "            result.append([sStart]+l)\n",
    "        seen[s] = False\n",
    "    \n",
    "    return result\n",
    "    "
   ]
  },
  {
   "cell_type": "code",
   "execution_count": 29,
   "metadata": {},
   "outputs": [],
   "source": [
    "def get_minimalInfeasible(graph,depth):\n",
    "    result = []\n",
    "    n = len(graph)\n",
    "    seen = n*[False]\n",
    "    for sStart in range(n):\n",
    "        seen[sStart] = True\n",
    "        result = result + get_minimalInfeasible_fromSummit(graph,seen,depth,sStart)\n",
    "        seen[sStart] = False\n",
    "    return result"
   ]
  },
  {
   "cell_type": "code",
   "execution_count": 30,
   "metadata": {},
   "outputs": [
    {
     "name": "stdout",
     "output_type": "stream",
     "text": [
      "Depth = 0, i = 1, CpuTime = 7.152557373046875e-06\n",
      "Depth = 0, i = 2, CpuTime = 9.059906005859375e-06\n",
      "Depth = 2, i = 1, CpuTime = 4.410743713378906e-05\n",
      "Depth = 2, i = 2, CpuTime = 5.1975250244140625e-05\n",
      "Depth = 2, i = 3, CpuTime = 0.000164031982421875\n",
      "Depth = 3, i = 3, CpuTime = 0.0027129650115966797\n",
      "Depth = 4, i = 3, CpuTime = 0.037947893142700195\n",
      "Depth = 5, i = 3, CpuTime = 0.6429641246795654\n"
     ]
    }
   ],
   "source": [
    "maxTime=0\n",
    "for depth in range(6):\n",
    "    for i in [1,2,3]:\n",
    "        t = time()\n",
    "        myResult = get_minimalInfeasible(graph[i],depth)\n",
    "        delta = time() - t\n",
    "        if delta > maxTime:\n",
    "            print(\"Depth = {}, i = {}, CpuTime = {}\".format(depth,i,delta))\n",
    "            maxTime = delta\n"
   ]
  }
 ],
 "metadata": {
  "kernelspec": {
   "display_name": "Python 3",
   "language": "python",
   "name": "python3"
  },
  "language_info": {
   "codemirror_mode": {
    "name": "ipython",
    "version": 3
   },
   "file_extension": ".py",
   "mimetype": "text/x-python",
   "name": "python",
   "nbconvert_exporter": "python",
   "pygments_lexer": "ipython3",
   "version": "3.8.3"
  }
 },
 "nbformat": 4,
 "nbformat_minor": 4
}
